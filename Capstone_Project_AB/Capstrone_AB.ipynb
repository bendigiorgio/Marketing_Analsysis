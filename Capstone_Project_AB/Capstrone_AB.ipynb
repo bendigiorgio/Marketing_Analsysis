{
 "cells": [
  {
   "cell_type": "code",
   "execution_count": 24,
   "metadata": {},
   "outputs": [],
   "source": [
    "import pandas as pd\n",
    "import numpy as np\n",
    "import scipy.stats as stats\n",
    "import statsmodels.stats.api as sms\n",
    "import matplotlib as mpl\n",
    "import matplotlib.pyplot as plt\n",
    "import seaborn as sns\n",
    "\n",
    "from sklearn.linear_model import LinearRegression\n",
    "\n",
    "\n",
    "df = pd.read_csv('ab_test_results.csv')"
   ]
  },
  {
   "cell_type": "markdown",
   "metadata": {},
   "source": [
    "Clean Data"
   ]
  },
  {
   "cell_type": "markdown",
   "metadata": {},
   "source": [
    "Check variable types and for nulls"
   ]
  },
  {
   "cell_type": "code",
   "execution_count": 6,
   "metadata": {},
   "outputs": [
    {
     "name": "stdout",
     "output_type": "stream",
     "text": [
      "<class 'pandas.core.frame.DataFrame'>\n",
      "RangeIndex: 120000 entries, 0 to 119999\n",
      "Data columns (total 4 columns):\n",
      " #   Column   Non-Null Count   Dtype  \n",
      "---  ------   --------------   -----  \n",
      " 0   user_id  120000 non-null  int64  \n",
      " 1   group    120000 non-null  object \n",
      " 2   views    120000 non-null  float64\n",
      " 3   clicks   120000 non-null  float64\n",
      "dtypes: float64(2), int64(1), object(1)\n",
      "memory usage: 3.7+ MB\n"
     ]
    },
    {
     "data": {
      "text/html": [
       "<div>\n",
       "<style scoped>\n",
       "    .dataframe tbody tr th:only-of-type {\n",
       "        vertical-align: middle;\n",
       "    }\n",
       "\n",
       "    .dataframe tbody tr th {\n",
       "        vertical-align: top;\n",
       "    }\n",
       "\n",
       "    .dataframe thead th {\n",
       "        text-align: right;\n",
       "    }\n",
       "</style>\n",
       "<table border=\"1\" class=\"dataframe\">\n",
       "  <thead>\n",
       "    <tr style=\"text-align: right;\">\n",
       "      <th></th>\n",
       "      <th>user_id</th>\n",
       "      <th>group</th>\n",
       "      <th>views</th>\n",
       "      <th>clicks</th>\n",
       "    </tr>\n",
       "  </thead>\n",
       "  <tbody>\n",
       "    <tr>\n",
       "      <th>119995</th>\n",
       "      <td>119996</td>\n",
       "      <td>test</td>\n",
       "      <td>9.0</td>\n",
       "      <td>0.0</td>\n",
       "    </tr>\n",
       "    <tr>\n",
       "      <th>119996</th>\n",
       "      <td>119997</td>\n",
       "      <td>test</td>\n",
       "      <td>2.0</td>\n",
       "      <td>1.0</td>\n",
       "    </tr>\n",
       "    <tr>\n",
       "      <th>119997</th>\n",
       "      <td>119998</td>\n",
       "      <td>test</td>\n",
       "      <td>20.0</td>\n",
       "      <td>1.0</td>\n",
       "    </tr>\n",
       "    <tr>\n",
       "      <th>119998</th>\n",
       "      <td>119999</td>\n",
       "      <td>test</td>\n",
       "      <td>6.0</td>\n",
       "      <td>1.0</td>\n",
       "    </tr>\n",
       "    <tr>\n",
       "      <th>119999</th>\n",
       "      <td>120000</td>\n",
       "      <td>test</td>\n",
       "      <td>2.0</td>\n",
       "      <td>0.0</td>\n",
       "    </tr>\n",
       "  </tbody>\n",
       "</table>\n",
       "</div>"
      ],
      "text/plain": [
       "        user_id group  views  clicks\n",
       "119995   119996  test    9.0     0.0\n",
       "119996   119997  test    2.0     1.0\n",
       "119997   119998  test   20.0     1.0\n",
       "119998   119999  test    6.0     1.0\n",
       "119999   120000  test    2.0     0.0"
      ]
     },
     "execution_count": 6,
     "metadata": {},
     "output_type": "execute_result"
    }
   ],
   "source": [
    "df.info()\n",
    "df.head()\n",
    "df.tail()"
   ]
  },
  {
   "cell_type": "markdown",
   "metadata": {},
   "source": [
    "Check for duplicates/invalid inputs"
   ]
  },
  {
   "cell_type": "code",
   "execution_count": 5,
   "metadata": {},
   "outputs": [
    {
     "name": "stdout",
     "output_type": "stream",
     "text": [
      "Empty DataFrame\n",
      "Columns: [user_id, group, views, clicks]\n",
      "Index: []\n"
     ]
    }
   ],
   "source": [
    "duplicated = df[df.duplicated()]\n",
    "print(duplicated)"
   ]
  },
  {
   "cell_type": "code",
   "execution_count": 13,
   "metadata": {},
   "outputs": [
    {
     "name": "stdout",
     "output_type": "stream",
     "text": [
      "control    60000\n",
      "test       60000\n",
      "Name: group, dtype: int64\n",
      "2.0      26367\n",
      "3.0      19207\n",
      "1.0      19059\n",
      "4.0      13288\n",
      "5.0       9516\n",
      "         ...  \n",
      "102.0        1\n",
      "114.0        1\n",
      "79.0         1\n",
      "92.0         1\n",
      "105.0        1\n",
      "Name: views, Length: 111, dtype: int64\n",
      "0.0    101477\n",
      "1.0     15846\n",
      "2.0      2161\n",
      "3.0       377\n",
      "4.0        98\n",
      "5.0        24\n",
      "6.0        10\n",
      "7.0         5\n",
      "9.0         1\n",
      "8.0         1\n",
      "Name: clicks, dtype: int64\n"
     ]
    }
   ],
   "source": [
    "for column in df.loc[:,'group':'clicks']:\n",
    "    print(df[column].value_counts())\n"
   ]
  },
  {
   "cell_type": "code",
   "execution_count": 51,
   "metadata": {},
   "outputs": [
    {
     "data": {
      "text/plain": [
       "group\n",
       "control    297144.0\n",
       "test       301785.0\n",
       "Name: views, dtype: float64"
      ]
     },
     "execution_count": 51,
     "metadata": {},
     "output_type": "execute_result"
    }
   ],
   "source": [
    "df.groupby(\"group\")[\"views\"].sum()"
   ]
  },
  {
   "cell_type": "code",
   "execution_count": 52,
   "metadata": {},
   "outputs": [
    {
     "data": {
      "text/plain": [
       "group\n",
       "control    10303.0\n",
       "test       11620.0\n",
       "Name: clicks, dtype: float64"
      ]
     },
     "execution_count": 52,
     "metadata": {},
     "output_type": "execute_result"
    }
   ],
   "source": [
    "df.groupby(\"group\")[\"clicks\"].sum()"
   ]
  },
  {
   "cell_type": "markdown",
   "metadata": {},
   "source": [
    "Visualize views"
   ]
  },
  {
   "cell_type": "code",
   "execution_count": 34,
   "metadata": {},
   "outputs": [
    {
     "data": {
      "text/html": [
       "<style type=\"text/css\">\n",
       "</style>\n",
       "<table id=\"T_6c2f2\">\n",
       "  <thead>\n",
       "    <tr>\n",
       "      <th class=\"blank level0\" >&nbsp;</th>\n",
       "      <th id=\"T_6c2f2_level0_col0\" class=\"col_heading level0 col0\" >views</th>\n",
       "      <th id=\"T_6c2f2_level0_col1\" class=\"col_heading level0 col1\" >std_deviation</th>\n",
       "      <th id=\"T_6c2f2_level0_col2\" class=\"col_heading level0 col2\" >std_error</th>\n",
       "    </tr>\n",
       "    <tr>\n",
       "      <th class=\"index_name level0\" >group</th>\n",
       "      <th class=\"blank col0\" >&nbsp;</th>\n",
       "      <th class=\"blank col1\" >&nbsp;</th>\n",
       "      <th class=\"blank col2\" >&nbsp;</th>\n",
       "    </tr>\n",
       "  </thead>\n",
       "  <tbody>\n",
       "    <tr>\n",
       "      <th id=\"T_6c2f2_level0_row0\" class=\"row_heading level0 row0\" >control</th>\n",
       "      <td id=\"T_6c2f2_row0_col0\" class=\"data row0 col0\" >4.952</td>\n",
       "      <td id=\"T_6c2f2_row0_col1\" class=\"data row0 col1\" >5.782</td>\n",
       "      <td id=\"T_6c2f2_row0_col2\" class=\"data row0 col2\" >0.024</td>\n",
       "    </tr>\n",
       "    <tr>\n",
       "      <th id=\"T_6c2f2_level0_row1\" class=\"row_heading level0 row1\" >test</th>\n",
       "      <td id=\"T_6c2f2_row1_col0\" class=\"data row1 col0\" >5.030</td>\n",
       "      <td id=\"T_6c2f2_row1_col1\" class=\"data row1 col1\" >6.045</td>\n",
       "      <td id=\"T_6c2f2_row1_col2\" class=\"data row1 col2\" >0.025</td>\n",
       "    </tr>\n",
       "  </tbody>\n",
       "</table>\n"
      ],
      "text/plain": [
       "<pandas.io.formats.style.Styler at 0x12d1128c0>"
      ]
     },
     "execution_count": 34,
     "metadata": {},
     "output_type": "execute_result"
    }
   ],
   "source": [
    "std_p = lambda x: np.std(x, ddof=0)              # Std. deviation of the proportion\n",
    "se_p = lambda x: stats.sem(x, ddof=0)            # Std. error of the proportion (std / sqrt(n))\n",
    "views = df.groupby(\"group\")[\"views\"]\n",
    "views = views.agg([np.mean, std_p, se_p])\n",
    "views.columns = [\"views\", \"std_deviation\", \"std_error\"]\n",
    "views.style.format(\"{:.3f}\")"
   ]
  },
  {
   "cell_type": "code",
   "execution_count": 35,
   "metadata": {},
   "outputs": [
    {
     "data": {
      "text/html": [
       "<style type=\"text/css\">\n",
       "</style>\n",
       "<table id=\"T_62d8e\">\n",
       "  <thead>\n",
       "    <tr>\n",
       "      <th class=\"blank level0\" >&nbsp;</th>\n",
       "      <th id=\"T_62d8e_level0_col0\" class=\"col_heading level0 col0\" >clicks</th>\n",
       "      <th id=\"T_62d8e_level0_col1\" class=\"col_heading level0 col1\" >std_deviation</th>\n",
       "      <th id=\"T_62d8e_level0_col2\" class=\"col_heading level0 col2\" >std_error</th>\n",
       "    </tr>\n",
       "    <tr>\n",
       "      <th class=\"index_name level0\" >group</th>\n",
       "      <th class=\"blank col0\" >&nbsp;</th>\n",
       "      <th class=\"blank col1\" >&nbsp;</th>\n",
       "      <th class=\"blank col2\" >&nbsp;</th>\n",
       "    </tr>\n",
       "  </thead>\n",
       "  <tbody>\n",
       "    <tr>\n",
       "      <th id=\"T_62d8e_level0_row0\" class=\"row_heading level0 row0\" >control</th>\n",
       "      <td id=\"T_62d8e_row0_col0\" class=\"data row0 col0\" >0.172</td>\n",
       "      <td id=\"T_62d8e_row0_col1\" class=\"data row0 col1\" >0.454</td>\n",
       "      <td id=\"T_62d8e_row0_col2\" class=\"data row0 col2\" >0.002</td>\n",
       "    </tr>\n",
       "    <tr>\n",
       "      <th id=\"T_62d8e_level0_row1\" class=\"row_heading level0 row1\" >test</th>\n",
       "      <td id=\"T_62d8e_row1_col0\" class=\"data row1 col0\" >0.194</td>\n",
       "      <td id=\"T_62d8e_row1_col1\" class=\"data row1 col1\" >0.490</td>\n",
       "      <td id=\"T_62d8e_row1_col2\" class=\"data row1 col2\" >0.002</td>\n",
       "    </tr>\n",
       "  </tbody>\n",
       "</table>\n"
      ],
      "text/plain": [
       "<pandas.io.formats.style.Styler at 0x129575990>"
      ]
     },
     "execution_count": 35,
     "metadata": {},
     "output_type": "execute_result"
    }
   ],
   "source": [
    "clicks = df.groupby(\"group\")[\"clicks\"]\n",
    "clicks = clicks.agg([np.mean, std_p, se_p])\n",
    "clicks.columns = [\"clicks\", \"std_deviation\", \"std_error\"]\n",
    "clicks.style.format(\"{:.3f}\")"
   ]
  },
  {
   "cell_type": "code",
   "execution_count": 23,
   "metadata": {},
   "outputs": [
    {
     "data": {
      "image/png": "[encoded data removed]",
      "text/plain": [
       "<Figure size 598.25x500 with 6 Axes>"
      ]
     },
     "metadata": {},
     "output_type": "display_data"
    }
   ],
   "source": [
    "sns.pairplot(df.loc[:,'group':'clicks'],hue=\"group\")\n",
    "plt.show()"
   ]
  },
  {
   "cell_type": "code",
   "execution_count": null,
   "metadata": {},
   "outputs": [],
   "source": []
  },
  {
   "cell_type": "markdown",
   "metadata": {},
   "source": [
    "Perform Regression"
   ]
  },
  {
   "cell_type": "code",
   "execution_count": 44,
   "metadata": {},
   "outputs": [],
   "source": [
    "dummy_group = pd.get_dummies(data= df['group'], drop_first=True) # control = 1, test = 0"
   ]
  },
  {
   "cell_type": "code",
   "execution_count": 41,
   "metadata": {},
   "outputs": [
    {
     "name": "stdout",
     "output_type": "stream",
     "text": [
      "         Correlation Coefficient of Views\n",
      "control                     -3.985194e+12\n",
      "test                        -3.985194e+12\n"
     ]
    }
   ],
   "source": [
    "views_regre = LinearRegression()\n",
    "views_regre.fit(dummy_group,df['views'].values)\n",
    "print(pd.DataFrame(views_regre.coef_,dummy_group.columns,columns=['Correlation Coefficient of Views']))"
   ]
  },
  {
   "cell_type": "code",
   "execution_count": 42,
   "metadata": {},
   "outputs": [
    {
     "name": "stdout",
     "output_type": "stream",
     "text": [
      "         Correlation Coefficient of Clicks\n",
      "control                       1.355742e+11\n",
      "test                          1.355742e+11\n"
     ]
    }
   ],
   "source": [
    "clicks_regre = LinearRegression()\n",
    "clicks_regre.fit(dummy_group,df['clicks'].values)\n",
    "print(pd.DataFrame(clicks_regre.coef_,dummy_group.columns,columns=['Correlation Coefficient of Clicks']))"
   ]
  }
 ],
 "metadata": {
  "kernelspec": {
   "display_name": "Python 3.10.4 64-bit",
   "language": "python",
   "name": "python3"
  },
  "language_info": {
   "codemirror_mode": {
    "name": "ipython",
    "version": 3
   },
   "file_extension": ".py",
   "mimetype": "text/x-python",
   "name": "python",
   "nbconvert_exporter": "python",
   "pygments_lexer": "ipython3",
   "version": "3.10.4"
  },
  "orig_nbformat": 4,
  "vscode": {
   "interpreter": {
    "hash": "aee8b7b246df8f9039afb4144a1f6fd8d2ca17a180786b69acc140d282b71a49"
   }
  }
 },
 "nbformat": 4,
 "nbformat_minor": 2
}
